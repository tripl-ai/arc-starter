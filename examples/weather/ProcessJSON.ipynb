{
 "cells": [
  {
   "cell_type": "markdown",
   "metadata": {
    "ExecuteTime": {
     "end_time": "2020-03-21T02:42:28.036790Z",
     "start_time": "2020-03-21T02:42:27.978Z"
    }
   },
   "source": [
    "# Analysing JSON Data\n",
    "\n",
    "This example demonstrates how to download and process [JSON](https://en.wikipedia.org/wiki/JSON) datasets using the open source data transformation tool: [Arc](https://arc.tripl.ai/). In this example the data is downloaded directly from the source using an Arc [HTTPExtract](https://arc.tripl.ai/extract/#httpextract) stage but the data could equally have been downloaded prior to the job.\n",
    "\n",
    "This example aims to show how to:\n",
    "\n",
    "1. source data using the [HTTPExtract](https://arc.tripl.ai/extract/#httpextract) stage.\n",
    "1. parse a [JSON](https://en.wikipedia.org/wiki/JSON) response using the [JSONExtract](https://arc.tripl.ai/extract/#jsonextract) stage.\n",
    "1. process the nested result into a standard tabular representation using the [SQLTransform](https://arc.tripl.ai/transform/#sqltransform) stage with the inline `%sql` 'magic' functionality\n",
    "1. ensure data quality and load assurance needs are met using the [SQLValidate](https://arc.tripl.ai/validate/#sqlvalidate) stage.\n",
    "1. write out the data so it can be consumed by other people or jobs.\n",
    "\n",
    "This example is possible due to data provided by the excellent [Australian Bureau of Meteorology](http://www.bom.gov.au)."
   ]
  },
  {
   "cell_type": "markdown",
   "metadata": {},
   "source": [
    "### Define variables\n",
    "\n",
    "To make this process reusable we first define a variable which we can use to dynamically replace the weather station identifier at execution time with a different station. This makes this job reusable for all [Australian Bureau of Meteorology](http://www.bom.gov.au) weather stations.\n",
    "\n",
    "To set a variable to use when developing logic it can be set with the `%env` magic:"
   ]
  },
  {
   "cell_type": "code",
   "execution_count": null,
   "metadata": {},
   "outputs": [
    {
     "data": {
      "text/plain": [
       "WMO_STATION_ID: 94768"
      ]
     },
     "execution_count": 0,
     "metadata": {},
     "output_type": "execute_result"
    }
   ],
   "source": [
    "%env\n",
    "WMO_STATION_ID=94768"
   ]
  },
  {
   "cell_type": "markdown",
   "metadata": {
    "ExecuteTime": {
     "end_time": "2020-03-21T02:51:54.382130Z",
     "start_time": "2020-03-21T02:51:54.348Z"
    }
   },
   "source": [
    "### Download the weather data\n",
    "\n",
    "This step uses the [HTTPExtract](https://arc.tripl.ai/extract/#httpextract) stage to directly download the data at `http://www.bom.gov.au/fwo/IDN60901/IDN60901.94768.json` and makes that dataset available with the alias `weather_raw` (defined by `outputView`). The reponse is the raw response data to allow you to choose how to process the data.\n",
    "\n",
    "Here we are using the `WMO_STATION_ID` variable and [string interpolation](https://en.wikipedia.org/wiki/String_interpolation) to call the endpoint based on the provided station identifier."
   ]
  },
  {
   "cell_type": "code",
   "execution_count": null,
   "metadata": {},
   "outputs": [
    {
     "data": {
      "text/html": [
       "<div class=\"progress\">\n",
       "  <div class=\"progress-bar-success\" style=\"width: 100%;\"></div>\n",
       "  <div class=\"progress-bar-status\">5/5</div>\n",
       "</div>\n"
      ]
     },
     "metadata": {},
     "output_type": "display_data"
    },
    {
     "data": {
      "text/html": [
       "<table class=\"tex2jax_ignore  \"><thead><tr><th>uri</th><th>statusCode</th><th>reasonPhrase</th><th>contentType</th><th>contentLength</th><th>body</th></tr></thead><tbody><tr><td>http://www.bom.gov.au/fwo/IDN60901/IDN60901.94768.json</td><td>200</td><td>OK</td><td>Content-Type: application/json</td><td>127333</td><td>{\n",
       "\t&quot;observations&quot;: {\n",
       "\t\t&quot;notice&quot;: [\n",
       "\t\t\t{\n",
       "\t\t\t\t&quot;copyright&quot;: &quot;Copyright Commonwealth of Australia 202...</td></tr></tbody></table>"
      ]
     },
     "execution_count": 0,
     "metadata": {},
     "output_type": "execute_result"
    }
   ],
   "source": [
    "%arc truncate=100\n",
    "{\n",
    "  \"type\": \"HTTPExtract\",\n",
    "  \"name\": \"download weather data\",\n",
    "  \"environments\": [\n",
    "    \"production\",\n",
    "    \"test\"\n",
    "  ],\n",
    "  \"inputURI\": \"http://www.bom.gov.au/fwo/IDN60901/IDN60901.\"${WMO_STATION_ID}\".json\",\n",
    "  \"outputView\": \"weather_raw\",\n",
    "  \"persist\": true\n",
    "}"
   ]
  },
  {
   "cell_type": "markdown",
   "metadata": {},
   "source": [
    "### Parse the response\n",
    "\n",
    "This step uses the [JSONExtract](https://arc.tripl.ai/extract/#jsonextract) stage to parse data in the `body` field (defined by `inputField`) of the incoming `weather_raw` dataset (defined by `inputView`) and makes that dataset available with the alias `weather_nested` (defined by `outputView`).\n",
    "\n",
    "If the `IDN60901.94768.json` file had been downloaded prior to this job (instead of being directly downloaded using the [HTTPExtract](https://arc.tripl.ai/extract/#httpextract) stage) then `inputView` and `inputField` would be replaced with an `inputURI` pointing to that file or multiple files."
   ]
  },
  {
   "cell_type": "code",
   "execution_count": null,
   "metadata": {},
   "outputs": [
    {
     "data": {
      "text/html": [
       "<div class=\"progress\">\n",
       "  <div class=\"progress-bar-success\" style=\"width: 100%;\"></div>\n",
       "  <div class=\"progress-bar-status\">205/205</div>\n",
       "</div>\n"
      ]
     },
     "metadata": {},
     "output_type": "display_data"
    },
    {
     "data": {
      "text/html": [
       "<table class=\"tex2jax_ignore  \"><thead><tr><th>observations</th><th>_filename</th><th>_index</th></tr></thead><tbody><tr><td>[[[20210325010000, 26.4, 27.1, -,,, -,, 6.4, 16...</td><td></td><td>1</td></tr></tbody></table>"
      ]
     },
     "execution_count": 0,
     "metadata": {},
     "output_type": "execute_result"
    }
   ],
   "source": [
    "{\n",
    "  \"type\": \"JSONExtract\",\n",
    "  \"name\": \"parse weather data http response\",\n",
    "  \"environments\": [\n",
    "    \"production\",\n",
    "    \"test\"\n",
    "  ],\n",
    "  \"inputView\": \"weather_raw\",\n",
    "  \"inputField\": \"body\",\n",
    "  \"outputView\": \"weather_nested\"\n",
    "}"
   ]
  },
  {
   "cell_type": "markdown",
   "metadata": {},
   "source": [
    "### View the schema\n",
    "\n",
    "Arc runs on top of [Apache Spark](https://spark.apache.org/) which supports advanced data types such as nested objects inside arrays like returned in the `IDN60901.94768.json` [JSON](https://en.wikipedia.org/wiki/JSON) dataset in addition to the standard `string`, `float` and `date` data types. \n",
    "\n",
    "To see the schema and help write queries to extract the data the `%printschema` magic can be used to show the layout of the data within the parsed [JSON](https://en.wikipedia.org/wiki/JSON) response."
   ]
  },
  {
   "cell_type": "code",
   "execution_count": null,
   "metadata": {},
   "outputs": [
    {
     "data": {
      "text/plain": [
       "root\n",
       " |-- observations: struct (nullable = true)\n",
       " |    |-- data: array (nullable = true)\n",
       " |    |    |-- element: struct (containsNull = true)\n",
       " |    |    |    |-- aifstime_utc: string (nullable = true)\n",
       " |    |    |    |-- air_temp: double (nullable = true)\n",
       " |    |    |    |-- apparent_t: double (nullable = true)\n",
       " |    |    |    |-- cloud: string (nullable = true)\n",
       " |    |    |    |-- cloud_base_m: string (nullable = true)\n",
       " |    |    |    |-- cloud_oktas: string (nullable = true)\n",
       " |    |    |    |-- cloud_type: string (nullable = true)\n",
       " |    |    |    |-- cloud_type_id: string (nullable = true)\n",
       " |    |    |    |-- delta_t: double (nullable = true)\n",
       " |    |    |    |-- dewpt: double (nullable = true)\n",
       " |    |    |    |-- gust_kmh: string (nullable = true)\n",
       " |    |    |    |-- gust_kt: string (nullable = true)\n",
       " |    |    |    |-- history_product: string (nullable = true)\n",
       " |    |    |    |-- lat: double (nullable = true)\n",
       " |    |    |    |-- local_date_time: string (nullable = true)\n",
       " |    |    |    |-- local_date_time_full: string (nullable = true)\n",
       " |    |    |    |-- lon: double (nullable = true)\n",
       " |    |    |    |-- name: string (nullable = true)\n",
       " |    |    |    |-- press: double (nullable = true)\n",
       " |    |    |    |-- press_msl: double (nullable = true)\n",
       " |    |    |    |-- press_qnh: double (nullable = true)\n",
       " |    |    |    |-- press_tend: string (nullable = true)\n",
       " |    |    |    |-- rain_trace: string (nullable = true)\n",
       " |    |    |    |-- rel_hum: long (nullable = true)\n",
       " |    |    |    |-- sea_state: string (nullable = true)\n",
       " |    |    |    |-- sort_order: long (nullable = true)\n",
       " |    |    |    |-- swell_dir_worded: string (nullable = true)\n",
       " |    |    |    |-- swell_height: string (nullable = true)\n",
       " |    |    |    |-- swell_period: string (nullable = true)\n",
       " |    |    |    |-- vis_km: string (nullable = true)\n",
       " |    |    |    |-- weather: string (nullable = true)\n",
       " |    |    |    |-- wind_dir: string (nullable = true)\n",
       " |    |    |    |-- wind_spd_kmh: long (nullable = true)\n",
       " |    |    |    |-- wind_spd_kt: long (nullable = true)\n",
       " |    |    |    |-- wmo: long (nullable = true)\n",
       " |    |-- header: array (nullable = true)\n",
       " |    |    |-- element: struct (containsNull = true)\n",
       " |    |    |    |-- ID: string (nullable = true)\n",
       " |    |    |    |-- main_ID: string (nullable = true)\n",
       " |    |    |    |-- name: string (nullable = true)\n",
       " |    |    |    |-- product_name: string (nullable = true)\n",
       " |    |    |    |-- refresh_message: string (nullable = true)\n",
       " |    |    |    |-- state: string (nullable = true)\n",
       " |    |    |    |-- state_time_zone: string (nullable = true)\n",
       " |    |    |    |-- time_zone: string (nullable = true)\n",
       " |    |-- notice: array (nullable = true)\n",
       " |    |    |-- element: struct (containsNull = true)\n",
       " |    |    |    |-- copyright: string (nullable = true)\n",
       " |    |    |    |-- copyright_url: string (nullable = true)\n",
       " |    |    |    |-- disclaimer_url: string (nullable = true)\n",
       " |    |    |    |-- feedback_url: string (nullable = true)\n",
       " |-- _filename: string (nullable = false)\n",
       " |-- _index: long (nullable = false)\n"
      ]
     },
     "execution_count": 0,
     "metadata": {},
     "output_type": "execute_result"
    }
   ],
   "source": [
    "%printschema\n",
    "weather_nested"
   ]
  },
  {
   "cell_type": "markdown",
   "metadata": {},
   "source": [
    "### Explode the data\n",
    "\n",
    "[Arc](https://arc.tripl.ai/) aims to help business users safely and independently build their own data processing jobs by removing the multiple translations traditionally required when having to hand off the work to developers or other 'go-between' roles.\n",
    "\n",
    "To do this we need a way of those users expressing business intent for which we employ [SQL](https://en.wikipedia.org/wiki/SQL) as a dialect (which is why we say that [Arc](https://arc.tripl.ai/) is 'SQL First'). We have found that SQL supports most standard data transformation requirements, is relatively easy to learn and easy to hire for.\n",
    "\n",
    "The statement below demonstrates three key operations for processing the `IDN60901.94768.json` nested dataset:\n",
    "\n",
    "1. use of the [POSEXPLODE](https://spark.apache.org/docs/latest/api/sql/index.html#posexplode) SQL function to separates the elements of the `observations.data` into multiple rows. [POSEXPLODE](https://spark.apache.org/docs/latest/api/sql/index.html#posexplode) also returns the `position` of the data (i.e. the index) in the array which can be useful if the position in the array is important. There is also a most simplistic [EXPLODE](https://spark.apache.org/docs/latest/api/sql/index.html#explode) function which does not return the position.\n",
    "1. use of a subquery to turn the data returned by [POSEXPLODE](https://spark.apache.org/docs/latest/api/sql/index.html#posexplode) into a normal tabular representation by selecting the required fields. If desired the use of `observation.*` would also work instead of selecting individual fields.\n",
    "1. parsing the `aifstime_utc` field into a [UTC](https://en.wikipedia.org/wiki/Coordinated_Universal_Time) timestamp which can then be safely used to order the data."
   ]
  },
  {
   "cell_type": "code",
   "execution_count": null,
   "metadata": {},
   "outputs": [
    {
     "data": {
      "text/html": [
       "<div class=\"progress\">\n",
       "  <div class=\"progress-bar-success\" style=\"width: 100%;\"></div>\n",
       "  <div class=\"progress-bar-status\">6/6</div>\n",
       "</div>\n"
      ]
     },
     "metadata": {},
     "output_type": "display_data"
    },
    {
     "data": {
      "text/html": [
       "<table class=\"tex2jax_ignore  \"><thead><tr><th>timestamp</th><th>air_temp</th><th>apparent_t</th><th>delta_t</th><th>dewpt</th><th>press</th><th>wind_spd_kmh</th><th>history_product</th><th>wmo</th><th>refresh_message</th><th>_index</th></tr></thead><tbody><tr><td>2021-03-25 01:00:00Z</td><td>26.40</td><td>27.10</td><td>6.40</td><td>16.10</td><td>1003.90</td><td>7</td><td>IDN60901</td><td>94768</td><td>Issued at 12:02 pm EDT Thursday 25 March 2021</td><td>0</td></tr><tr><td>2021-03-25 00:30:00Z</td><td>26.20</td><td>26.90</td><td>6.20</td><td>16.20</td><td>1003.90</td><td>7</td><td>IDN60901</td><td>94768</td><td>Issued at 12:02 pm EDT Thursday 25 March 2021</td><td>1</td></tr><tr><td>2021-03-25 00:00:00Z</td><td>25.10</td><td>25.40</td><td>5.60</td><td>16.00</td><td>1003.80</td><td>9</td><td>IDN60901</td><td>94768</td><td>Issued at 12:02 pm EDT Thursday 25 March 2021</td><td>2</td></tr><tr><td>2021-03-24 23:30:00Z</td><td>23.90</td><td>23.80</td><td>4.90</td><td>15.90</td><td>1003.80</td><td>11</td><td>IDN60901</td><td>94768</td><td>Issued at 12:02 pm EDT Thursday 25 March 2021</td><td>3</td></tr><tr><td>2021-03-24 23:00:00Z</td><td>21.60</td><td>22.40</td><td>3.40</td><td>15.90</td><td>1003.80</td><td>6</td><td>IDN60901</td><td>94768</td><td>Issued at 12:02 pm EDT Thursday 25 March 2021</td><td>4</td></tr><tr><td>2021-03-24 22:30:00Z</td><td>21.30</td><td>22.00</td><td>3.20</td><td>16.00</td><td>1003.70</td><td>7</td><td>IDN60901</td><td>94768</td><td>Issued at 12:02 pm EDT Thursday 25 March 2021</td><td>5</td></tr><tr><td>2021-03-24 22:00:00Z</td><td>18.90</td><td>20.10</td><td>2.30</td><td>15.00</td><td>1003.50</td><td>2</td><td>IDN60901</td><td>94768</td><td>Issued at 12:02 pm EDT Thursday 25 March 2021</td><td>6</td></tr><tr><td>2021-03-24 21:30:00Z</td><td>18.10</td><td>19.50</td><td>2.10</td><td>14.40</td><td>1003.00</td><td>0</td><td>IDN60901</td><td>94768</td><td>Issued at 12:02 pm EDT Thursday 25 March 2021</td><td>7</td></tr><tr><td>2021-03-24 21:00:00Z</td><td>17.60</td><td>17.70</td><td>2.10</td><td>13.90</td><td>1002.40</td><td>6</td><td>IDN60901</td><td>94768</td><td>Issued at 12:02 pm EDT Thursday 25 March 2021</td><td>8</td></tr><tr><td>2021-03-24 20:30:00Z</td><td>17.30</td><td>17.40</td><td>2.00</td><td>13.80</td><td>1002.20</td><td>6</td><td>IDN60901</td><td>94768</td><td>Issued at 12:02 pm EDT Thursday 25 March 2021</td><td>9</td></tr><tr><td>2021-03-24 20:00:00Z</td><td>17.50</td><td>17.10</td><td>2.00</td><td>14.00</td><td>1002.00</td><td>9</td><td>IDN60901</td><td>94768</td><td>Issued at 12:02 pm EDT Thursday 25 March 2021</td><td>10</td></tr><tr><td>2021-03-24 19:30:00Z</td><td>17.50</td><td>16.90</td><td>2.30</td><td>13.40</td><td>1001.70</td><td>9</td><td>IDN60901</td><td>94768</td><td>Issued at 12:02 pm EDT Thursday 25 March 2021</td><td>11</td></tr><tr><td>2021-03-24 19:00:00Z</td><td>17.60</td><td>16.60</td><td>2.30</td><td>13.50</td><td>1001.60</td><td>11</td><td>IDN60901</td><td>94768</td><td>Issued at 12:02 pm EDT Thursday 25 March 2021</td><td>12</td></tr><tr><td>2021-03-24 18:30:00Z</td><td>17.80</td><td>17.20</td><td>2.40</td><td>13.50</td><td>1001.30</td><td>9</td><td>IDN60901</td><td>94768</td><td>Issued at 12:02 pm EDT Thursday 25 March 2021</td><td>13</td></tr><tr><td>2021-03-24 18:00:00Z</td><td>18.10</td><td>17.80</td><td>2.80</td><td>13.20</td><td>1001.10</td><td>7</td><td>IDN60901</td><td>94768</td><td>Issued at 12:02 pm EDT Thursday 25 March 2021</td><td>14</td></tr><tr><td>2021-03-24 17:30:00Z</td><td>18.60</td><td>17.90</td><td>3.10</td><td>13.20</td><td>1000.90</td><td>9</td><td>IDN60901</td><td>94768</td><td>Issued at 12:02 pm EDT Thursday 25 March 2021</td><td>15</td></tr><tr><td>2021-03-24 17:00:00Z</td><td>18.90</td><td>17.30</td><td>3.40</td><td>12.90</td><td>1000.90</td><td>13</td><td>IDN60901</td><td>94768</td><td>Issued at 12:02 pm EDT Thursday 25 March 2021</td><td>16</td></tr><tr><td>2021-03-24 16:30:00Z</td><td>19.00</td><td>17.90</td><td>3.40</td><td>13.00</td><td>1000.80</td><td>11</td><td>IDN60901</td><td>94768</td><td>Issued at 12:02 pm EDT Thursday 25 March 2021</td><td>17</td></tr><tr><td>2021-03-24 16:00:00Z</td><td>18.80</td><td>17.60</td><td>3.40</td><td>12.80</td><td>1000.90</td><td>11</td><td>IDN60901</td><td>94768</td><td>Issued at 12:02 pm EDT Thursday 25 March 2021</td><td>18</td></tr><tr><td>2021-03-24 15:30:00Z</td><td>19.30</td><td>17.40</td><td>3.60</td><td>13.00</td><td>1001.20</td><td>15</td><td>IDN60901</td><td>94768</td><td>Issued at 12:02 pm EDT Thursday 25 March 2021</td><td>19</td></tr></tbody></table>"
      ]
     },
     "execution_count": 0,
     "metadata": {},
     "output_type": "execute_result"
    }
   ],
   "source": [
    "%sql name=\"calculate weather\" outputView=weather environments=production,test persist=true\n",
    "SELECT\n",
    "  -- convert aifstime_utc to a timestamp object\n",
    "  MAKE_TIMESTAMP(\n",
    "    SUBSTR(observation.aifstime_utc, 0, 4),\n",
    "    SUBSTR(observation.aifstime_utc, 5, 2),\n",
    "    SUBSTR(observation.aifstime_utc, 7, 2),\n",
    "    SUBSTR(observation.aifstime_utc, 9, 2),\n",
    "    SUBSTR(observation.aifstime_utc, 11, 2),\n",
    "    SUBSTR(observation.aifstime_utc, 13, 2),\n",
    "    'UTC'\n",
    "  ) AS timestamp\n",
    "  ,observation.air_temp\n",
    "  ,observation.apparent_t\n",
    "  ,observation.delta_t\n",
    "  ,observation.dewpt\n",
    "  ,observation.press\n",
    "  ,observation.wind_spd_kmh\n",
    "  ,observation.history_product\n",
    "  ,observation.wmo\n",
    "  ,header.refresh_message\n",
    "  ,_index\n",
    "FROM (\n",
    "  SELECT\n",
    "    POSEXPLODE(observations.data) AS (_index, observation)\n",
    "  FROM weather_nested\n",
    ") observations\n",
    "\n",
    "CROSS JOIN\n",
    "\n",
    "(\n",
    "  SELECT\n",
    "    EXPLODE(observations.header) AS header\n",
    "  FROM weather_nested\n",
    ") header  "
   ]
  },
  {
   "cell_type": "markdown",
   "metadata": {},
   "source": [
    "### Validate the data / load assurance\n",
    "\n",
    "Before using the data it is a good idea to ensure that certain data quality guarantees can be provided to downstream consumers of the data. To do this we once again use an [Arc](https://arc.tripl.ai/) 'SQL First' approach to define data quality rules using a [SQLValidate](https://arc.tripl.ai/validate/#sqlvalidate) stage. When building [Arc](https://arc.tripl.ai/) we could have tried to impose a set of standardised business rules but inevitably someone would have a case which was not covered but can be met using a SQL statement.\n",
    "\n",
    "The statement below demonstrates three key operations for our processed the `IDN60901.94768.json` flattened dataset:\n",
    "\n",
    "1. to apply individual rules a good method is to use case statements. For example if we want to ensure that all the timestamp values are populated we can write a statement to find any missing values like: `CASE WHEN timestamp IS NULL THEN 1 ELSE 0 END AS timestamp_null`. `CASE` statements allow very detailed business rules to be defined. Many of these rules can be quickly added for different conditions you care about.\n",
    "1. once the individual rules have been applied we need to define what conditions need to be met for the data to be considered to have met data quality guarantees (and return a `TRUE`/`FALSE` response). In this case we are asserting that the record set must meet these condtions for this stage to be successful:\n",
    "  - has 144 rows (3 days of 30 minute interval data)  - this is Load Assurance to ensure all records have been received and processed.\n",
    "  - AND the `SUM` of the `timestamp_null` rule must equal `0` - this is a Data Quality 'completentess' guarantee that can be provided to consumers of the data\n",
    "  - AND the `SUM` of the `air_temp_null` rule must also equal `0` - this is a Data Quality 'completentess' guarantee that can be provided to consumers of the data\n",
    "  \n",
    "1. additionally we can return a message that is added to the logs. in this case we are returning a [JSON](https://en.wikipedia.org/wiki/JSON) formatted string which looks like `{\"count\":144,\"timestamp_null\":0,\"air_temp_null\":0}`. This is very useful when monitoring this job in when it is operational as we can track metrics or set up alerts when certain conditions occur."
   ]
  },
  {
   "cell_type": "code",
   "execution_count": null,
   "metadata": {},
   "outputs": [
    {
     "data": {
      "text/html": [
       "<div class=\"progress\">\n",
       "  <div class=\"progress-bar-success\" style=\"width: 100%;\"></div>\n",
       "  <div class=\"progress-bar-status\">7/7</div>\n",
       "</div>\n"
      ]
     },
     "metadata": {},
     "output_type": "display_data"
    },
    {
     "data": {
      "text/html": [
       "<table class=\"tex2jax_ignore  \"><thead><tr><th>valid</th><th>message</th></tr></thead><tbody><tr><td>true</td><td>{&quot;count&quot;:144,&quot;timestamp_null&quot;:0,&quot;air_temp_null&quot;:0}</td></tr></tbody></table>"
      ]
     },
     "execution_count": 0,
     "metadata": {},
     "output_type": "execute_result"
    }
   ],
   "source": [
    "%sqlvalidate name=\"validate dataset\" environments=production,test\n",
    "SELECT\n",
    "  COUNT(*) = 144 AND SUM(timestamp_null) = 0 AND SUM(air_temp_null) = 0 AS valid\n",
    "  ,TO_JSON(\n",
    "      NAMED_STRUCT(\n",
    "        'count', COUNT(*),\n",
    "        'timestamp_null', SUM(timestamp_null),\n",
    "        'air_temp_null', SUM(air_temp_null)\n",
    "      )\n",
    "  ) AS message\n",
    "FROM (\n",
    "  SELECT\n",
    "    CASE\n",
    "      WHEN timestamp IS NULL THEN 1\n",
    "      ELSE 0\n",
    "    END AS timestamp_null\n",
    "    ,CASE\n",
    "      WHEN air_temp IS NULL THEN 1\n",
    "      ELSE 0\n",
    "    END AS air_temp_null\n",
    "  FROM weather\n",
    ") input_table"
   ]
  },
  {
   "cell_type": "markdown",
   "metadata": {
    "ExecuteTime": {
     "end_time": "2020-03-21T23:56:45.136183Z",
     "start_time": "2020-03-21T23:56:45.106Z"
    }
   },
   "source": [
    "### Use the data\n",
    "\n",
    "At this point we can write arbitrary SQL against the `weather` dataset as a standard [SQL](https://en.wikipedia.org/wiki/SQL) table using the `%sql` command:"
   ]
  },
  {
   "cell_type": "code",
   "execution_count": null,
   "metadata": {},
   "outputs": [
    {
     "data": {
      "text/html": [
       "<div class=\"progress\">\n",
       "  <div class=\"progress-bar-success\" style=\"width: 100%;\"></div>\n",
       "  <div class=\"progress-bar-status\">5/5</div>\n",
       "</div>\n"
      ]
     },
     "metadata": {},
     "output_type": "display_data"
    },
    {
     "data": {
      "text/html": [
       "<table class=\"tex2jax_ignore  \"><thead><tr><th>air_temp</th><th>apparent_t</th><th>difference_t</th><th>wind_spd_kmh</th></tr></thead><tbody><tr><td>23.90</td><td>23.80</td><td>0.10</td><td>11</td></tr><tr><td>17.50</td><td>17.10</td><td>0.40</td><td>9</td></tr><tr><td>17.50</td><td>16.90</td><td>0.60</td><td>9</td></tr><tr><td>17.60</td><td>16.60</td><td>1.00</td><td>11</td></tr><tr><td>17.80</td><td>17.20</td><td>0.60</td><td>9</td></tr><tr><td>18.10</td><td>17.80</td><td>0.30</td><td>7</td></tr><tr><td>18.60</td><td>17.90</td><td>0.70</td><td>9</td></tr><tr><td>18.90</td><td>17.30</td><td>1.60</td><td>13</td></tr><tr><td>19.00</td><td>17.90</td><td>1.10</td><td>11</td></tr><tr><td>18.80</td><td>17.60</td><td>1.20</td><td>11</td></tr><tr><td>19.30</td><td>17.40</td><td>1.90</td><td>15</td></tr><tr><td>19.30</td><td>17.80</td><td>1.50</td><td>13</td></tr><tr><td>20.00</td><td>17.00</td><td>3.00</td><td>20</td></tr><tr><td>20.40</td><td>18.60</td><td>1.80</td><td>15</td></tr><tr><td>20.90</td><td>18.90</td><td>2.00</td><td>15</td></tr><tr><td>20.60</td><td>19.90</td><td>0.70</td><td>9</td></tr><tr><td>21.10</td><td>20.30</td><td>0.80</td><td>9</td></tr><tr><td>21.90</td><td>19.90</td><td>2.00</td><td>15</td></tr><tr><td>22.20</td><td>20.10</td><td>2.10</td><td>17</td></tr><tr><td>22.50</td><td>20.80</td><td>1.70</td><td>15</td></tr></tbody></table>"
      ]
     },
     "execution_count": 0,
     "metadata": {},
     "output_type": "execute_result"
    }
   ],
   "source": [
    "%sql\n",
    "-- find records where the difference between apparent temperature (feels like) and air temperature correlates with wind speed\n",
    "SELECT \n",
    "  air_temp \n",
    "  ,apparent_t\n",
    "  ,air_temp - apparent_t AS difference_t\n",
    "  ,wind_spd_kmh\n",
    "FROM weather\n",
    "WHERE air_temp > apparent_t"
   ]
  },
  {
   "cell_type": "markdown",
   "metadata": {},
   "source": [
    "### Export the data\n",
    "\n",
    "As we are confident our data is of good quality (due to passing the [SQLValidate](https://arc.tripl.ai/validate/#sqlvalidate) stage) we can export the data so it can be safely consumed by other people and jobs. \n",
    "\n",
    "To do so we can use the [ParquetLoad](https://arc.tripl.ai/load/#parquetload) stage to write the data out to a [Parquet](https://parquet.apache.org/) format which can then can be easily reloaded without losing any data precision using a [ParquetExtract](https://arc.tripl.ai/extract/#parquetextract) stage."
   ]
  },
  {
   "cell_type": "code",
   "execution_count": null,
   "metadata": {},
   "outputs": [
    {
     "data": {
      "text/html": [
       "<div class=\"progress\">\n",
       "  <div class=\"progress-bar-success\" style=\"width: 100%;\"></div>\n",
       "  <div class=\"progress-bar-status\">5/5</div>\n",
       "</div>\n"
      ]
     },
     "metadata": {},
     "output_type": "display_data"
    },
    {
     "data": {
      "text/html": [
       "<table class=\"tex2jax_ignore  \"><thead><tr><th>timestamp</th><th>air_temp</th><th>apparent_t</th><th>delta_t</th><th>dewpt</th><th>press</th><th>wind_spd_kmh</th><th>history_product</th><th>wmo</th><th>refresh_message</th><th>_index</th></tr></thead><tbody><tr><td>2021-03-25 01:00:00Z</td><td>26.40</td><td>27.10</td><td>6.40</td><td>16.10</td><td>1003.90</td><td>7</td><td>IDN60901</td><td>94768</td><td>Issued at 12:02 pm EDT Thursday 25 March 2021</td><td>0</td></tr><tr><td>2021-03-25 00:30:00Z</td><td>26.20</td><td>26.90</td><td>6.20</td><td>16.20</td><td>1003.90</td><td>7</td><td>IDN60901</td><td>94768</td><td>Issued at 12:02 pm EDT Thursday 25 March 2021</td><td>1</td></tr><tr><td>2021-03-25 00:00:00Z</td><td>25.10</td><td>25.40</td><td>5.60</td><td>16.00</td><td>1003.80</td><td>9</td><td>IDN60901</td><td>94768</td><td>Issued at 12:02 pm EDT Thursday 25 March 2021</td><td>2</td></tr><tr><td>2021-03-24 23:30:00Z</td><td>23.90</td><td>23.80</td><td>4.90</td><td>15.90</td><td>1003.80</td><td>11</td><td>IDN60901</td><td>94768</td><td>Issued at 12:02 pm EDT Thursday 25 March 2021</td><td>3</td></tr><tr><td>2021-03-24 23:00:00Z</td><td>21.60</td><td>22.40</td><td>3.40</td><td>15.90</td><td>1003.80</td><td>6</td><td>IDN60901</td><td>94768</td><td>Issued at 12:02 pm EDT Thursday 25 March 2021</td><td>4</td></tr><tr><td>2021-03-24 22:30:00Z</td><td>21.30</td><td>22.00</td><td>3.20</td><td>16.00</td><td>1003.70</td><td>7</td><td>IDN60901</td><td>94768</td><td>Issued at 12:02 pm EDT Thursday 25 March 2021</td><td>5</td></tr><tr><td>2021-03-24 22:00:00Z</td><td>18.90</td><td>20.10</td><td>2.30</td><td>15.00</td><td>1003.50</td><td>2</td><td>IDN60901</td><td>94768</td><td>Issued at 12:02 pm EDT Thursday 25 March 2021</td><td>6</td></tr><tr><td>2021-03-24 21:30:00Z</td><td>18.10</td><td>19.50</td><td>2.10</td><td>14.40</td><td>1003.00</td><td>0</td><td>IDN60901</td><td>94768</td><td>Issued at 12:02 pm EDT Thursday 25 March 2021</td><td>7</td></tr><tr><td>2021-03-24 21:00:00Z</td><td>17.60</td><td>17.70</td><td>2.10</td><td>13.90</td><td>1002.40</td><td>6</td><td>IDN60901</td><td>94768</td><td>Issued at 12:02 pm EDT Thursday 25 March 2021</td><td>8</td></tr><tr><td>2021-03-24 20:30:00Z</td><td>17.30</td><td>17.40</td><td>2.00</td><td>13.80</td><td>1002.20</td><td>6</td><td>IDN60901</td><td>94768</td><td>Issued at 12:02 pm EDT Thursday 25 March 2021</td><td>9</td></tr><tr><td>2021-03-24 20:00:00Z</td><td>17.50</td><td>17.10</td><td>2.00</td><td>14.00</td><td>1002.00</td><td>9</td><td>IDN60901</td><td>94768</td><td>Issued at 12:02 pm EDT Thursday 25 March 2021</td><td>10</td></tr><tr><td>2021-03-24 19:30:00Z</td><td>17.50</td><td>16.90</td><td>2.30</td><td>13.40</td><td>1001.70</td><td>9</td><td>IDN60901</td><td>94768</td><td>Issued at 12:02 pm EDT Thursday 25 March 2021</td><td>11</td></tr><tr><td>2021-03-24 19:00:00Z</td><td>17.60</td><td>16.60</td><td>2.30</td><td>13.50</td><td>1001.60</td><td>11</td><td>IDN60901</td><td>94768</td><td>Issued at 12:02 pm EDT Thursday 25 March 2021</td><td>12</td></tr><tr><td>2021-03-24 18:30:00Z</td><td>17.80</td><td>17.20</td><td>2.40</td><td>13.50</td><td>1001.30</td><td>9</td><td>IDN60901</td><td>94768</td><td>Issued at 12:02 pm EDT Thursday 25 March 2021</td><td>13</td></tr><tr><td>2021-03-24 18:00:00Z</td><td>18.10</td><td>17.80</td><td>2.80</td><td>13.20</td><td>1001.10</td><td>7</td><td>IDN60901</td><td>94768</td><td>Issued at 12:02 pm EDT Thursday 25 March 2021</td><td>14</td></tr><tr><td>2021-03-24 17:30:00Z</td><td>18.60</td><td>17.90</td><td>3.10</td><td>13.20</td><td>1000.90</td><td>9</td><td>IDN60901</td><td>94768</td><td>Issued at 12:02 pm EDT Thursday 25 March 2021</td><td>15</td></tr><tr><td>2021-03-24 17:00:00Z</td><td>18.90</td><td>17.30</td><td>3.40</td><td>12.90</td><td>1000.90</td><td>13</td><td>IDN60901</td><td>94768</td><td>Issued at 12:02 pm EDT Thursday 25 March 2021</td><td>16</td></tr><tr><td>2021-03-24 16:30:00Z</td><td>19.00</td><td>17.90</td><td>3.40</td><td>13.00</td><td>1000.80</td><td>11</td><td>IDN60901</td><td>94768</td><td>Issued at 12:02 pm EDT Thursday 25 March 2021</td><td>17</td></tr><tr><td>2021-03-24 16:00:00Z</td><td>18.80</td><td>17.60</td><td>3.40</td><td>12.80</td><td>1000.90</td><td>11</td><td>IDN60901</td><td>94768</td><td>Issued at 12:02 pm EDT Thursday 25 March 2021</td><td>18</td></tr><tr><td>2021-03-24 15:30:00Z</td><td>19.30</td><td>17.40</td><td>3.60</td><td>13.00</td><td>1001.20</td><td>15</td><td>IDN60901</td><td>94768</td><td>Issued at 12:02 pm EDT Thursday 25 March 2021</td><td>19</td></tr></tbody></table>"
      ]
     },
     "execution_count": 0,
     "metadata": {},
     "output_type": "execute_result"
    }
   ],
   "source": [
    "{\n",
    "  \"type\": \"ParquetLoad\",\n",
    "  \"name\": \"write out flattened weather dataset\",\n",
    "  \"environments\": [\"production\", \"test\"],\n",
    "  \"inputView\": \"weather\",\n",
    "  \"outputURI\": \"/home/jovyan/examples/weather/output/\"${WMO_STATION_ID}\"/weather.parquet\",\n",
    "  \"saveMode\": \"Append\"\n",
    "}"
   ]
  },
  {
   "cell_type": "markdown",
   "metadata": {},
   "source": [
    "### Execute the Job\n",
    "\n",
    "Now that a job has been built in this notebook it is possible to execute it using the [Arc](https://arc.tripl.ai/) Docker image. Notice that we have defined the `WMO_STATION_ID` parameter using an environment variable which can be easily changed to a different station. This could be scheduled to run periodically to retrieve this data.\n",
    "\n",
    "```bash\n",
    "docker run \\\n",
    "--rm \\\n",
    "-v $(pwd)/examples:/home/jovyan/examples:Z \\\n",
    "-e \"ETL_CONF_ENV=production\" \\\n",
    "-e \"WMO_STATION_ID=94768\" \\\n",
    "-p 4040:4040 \\\n",
    "ghcr.io/tripl-ai/arc:latest \\\n",
    "bin/spark-submit \\\n",
    "--master local[*] \\\n",
    "--driver-memory 4g \\\n",
    "--class ai.tripl.arc.ARC \\\n",
    "/opt/spark/jars/arc.jar \\\n",
    "--etl.config.uri=file:///home/jovyan/examples/weather/ProcessJSON.ipynb\n",
    "```"
   ]
  },
  {
   "cell_type": "code",
   "execution_count": null,
   "metadata": {},
   "outputs": [],
   "source": []
  }
 ],
 "metadata": {
  "kernelspec": {
   "display_name": "Arc",
   "language": "javascript",
   "name": "arc"
  },
  "language_info": {
   "codemirror_mode": "javascript",
   "file_extension": ".json",
   "mimetype": "javascript",
   "name": "arc",
   "nbconvert_exporter": "arcexport",
   "version": "3.13.1"
  }
 },
 "nbformat": 4,
 "nbformat_minor": 4
}
